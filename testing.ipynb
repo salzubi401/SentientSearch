{
 "cells": [
  {
   "cell_type": "code",
   "execution_count": 1,
   "metadata": {},
   "outputs": [
    {
     "name": "stderr",
     "output_type": "stream",
     "text": [
      "/home/ubuntu/salah/SentientSearch/.venv/lib/python3.10/site-packages/tqdm/auto.py:21: TqdmWarning: IProgress not found. Please update jupyter and ipywidgets. See https://ipywidgets.readthedocs.io/en/stable/user_install.html\n",
      "  from .autonotebook import tqdm as notebook_tqdm\n",
      "2024-11-27 14:37:23,917 - WARNING - USER_AGENT environment variable not set, consider setting it to identify your requests.\n"
     ]
    },
    {
     "name": "stdout",
     "output_type": "stream",
     "text": [
      "> \u001b[0;32m/home/ubuntu/salah/SentientSearch/main.py\u001b[0m(54)\u001b[0;36mgenerate\u001b[0;34m()\u001b[0m\n",
      "\u001b[0;32m     53 \u001b[0;31m            \u001b[0;32mimport\u001b[0m \u001b[0mipdb\u001b[0m\u001b[0;34m;\u001b[0m \u001b[0mipdb\u001b[0m\u001b[0;34m.\u001b[0m\u001b[0mset_trace\u001b[0m\u001b[0;34m(\u001b[0m\u001b[0;34m)\u001b[0m\u001b[0;34m\u001b[0m\u001b[0;34m\u001b[0m\u001b[0m\n",
      "\u001b[0m\u001b[0;32m---> 54 \u001b[0;31m            \u001b[0;32mif\u001b[0m \u001b[0msources_result\u001b[0m\u001b[0;34m.\u001b[0m\u001b[0mget\u001b[0m\u001b[0;34m(\u001b[0m\u001b[0;34m'organic'\u001b[0m\u001b[0;34m)\u001b[0m \u001b[0;32mis\u001b[0m \u001b[0;32mnot\u001b[0m \u001b[0;32mNone\u001b[0m \u001b[0;32mand\u001b[0m \u001b[0mpro_mode\u001b[0m \u001b[0;32mis\u001b[0m \u001b[0;32mTrue\u001b[0m\u001b[0;34m:\u001b[0m\u001b[0;34m\u001b[0m\u001b[0;34m\u001b[0m\u001b[0m\n",
      "\u001b[0m\u001b[0;32m     55 \u001b[0;31m                \u001b[0;31m# set the number of websites to scrape : here = 2\u001b[0m\u001b[0;34m\u001b[0m\u001b[0;34m\u001b[0m\u001b[0m\n",
      "\u001b[0m\n",
      "{'organic': [{'title': 'Tokyo, Tokyo, Japan Weather Forecast - AccuWeather', 'link': 'https://www.accuweather.com/en/jp/tokyo/226396/weather-forecast/226396', 'snippet': 'Tokyo, Tokyo, Japan Weather Forecast, with current conditions, wind, air quality, and what to expect for the next 3 days.'}, {'title': 'Tokyo, Japan 14 day weather forecast - Time and Date', 'link': 'https://www.timeanddate.com/weather/japan/tokyo/ext', 'snippet': 'Tokyo Extended Forecast with high and low temperatures ... Sunny. Feels Like: 57 °F. Humidity: 46 ...'}, {'title': '10-Day Weather Forecast for Minato-ku, Tokyo Prefecture, Japan', 'link': 'https://weather.com/weather/tenday/l/Minato+ku+Tokyo+Prefecture+Japan?canonicalCityId=88531c440be4859e58ca9bee96a8fef95643429857e3c626542368c9cb3c4815', 'snippet': 'A few passing clouds. Low 49F. Winds SW at 5 to 10 mph. undefined. Heads-up. Snow, Cold Take Aim At Northeast Late Week ...'}, {'title': 'Tokyo, Tokyo, Japan Hourly Weather | AccuWeather', 'link': 'https://www.accuweather.com/en/jp/tokyo/226396/hourly-weather-forecast/226396', 'snippet': 'WindN 9 mph. Air QualityFair. Wind Gusts12 mph. Humidity59%. Indoor Humidity42% (Ideal Humidity). Dew Point44° F. Cloud Cover98%. Visibility10 mi.'}, {'title': 'Tokyo (Japan) weather - Met Office', 'link': 'https://www.metoffice.gov.uk/weather/forecast/xn76urzn2', 'snippet': 'Sunny changing to partly cloudy by early evening. Most likely maximum day time temperature 16 degrees Celsius and highest possible is 17 degrees, ...'}, {'title': '10-Day Weather Forecast for Tokyo, Tokyo Prefecture, Japan', 'link': 'https://weather.com/weather/tenday/l/4ba28384e2da53b2861f5b5c70b7332e4ba1dc83e75b948e6fbd2aaceeeceae3', 'snippet': 'Cloudy with periods of rain. Low around 50F. Winds SW at 10 to 20 mph. Chance of rain 100%. 1 to 2 inches of rain expected. Humidity95%. UV Index0 of 11.'}, {'title': 'Weather for Tokyo, Japan - Time and Date', 'link': 'https://www.timeanddate.com/weather/japan/tokyo', 'snippet': 'Mostly clear. Clear. Sunny. Sunny. Clear. Feels Like, 54 °F, 65 °F, 52 ° ...'}, {'title': 'Tokyo - BBC Weather', 'link': 'https://www.bbc.com/weather/1850147', 'snippet': 'A clear sky and a gentle breezeSunny and a moderate breezeSunny and a gentle breezeSunny and light windsSunny and light windsSunny intervals and light ...'}, {'title': 'Tokyo, Japan 10-Day Weather Forecast', 'link': 'https://www.wunderground.com/forecast/jp/tokyo', 'snippet': 'Tokyo Weather Forecasts. Weather Underground provides local & long-range weather forecasts, weatherreports, maps & tropical weather conditions for the Tokyo ...'}, {'title': 'Tokyo, Tokyo, Japan Current Weather | AccuWeather', 'link': 'https://www.accuweather.com/en/jp/tokyo/226396/current-weather/226396', 'snippet': 'Current Weather. 9:39 PM. 59°F. Mostly clear. RealFeel® 56°. Cool. RealFeel Guide. Cool. 53° to 62°. Light jacket or sweater may be appropriate.'}, {'title': 'Japan Meteorological Agency | Weather forecast', 'link': 'https://www.data.jma.go.jp/multi/yoho/yoho_detail.html', 'snippet': 'One-week forecasts ; 30 (Wednesday), 31 (Thursday), 1 (Friday) ; RAIN, CLOUDY LATER. PARTLY CLOUDY. CLOUDY ; --%, 20%, 40% ...'}, {'title': 'Tokyo, Tokyo, Japan Daily Weather - AccuWeather', 'link': 'https://www.accuweather.com/en/jp/tokyo/226396/daily-weather-forecast/226396', 'snippet': 'Thu 11/28 · Gale Advisory. 9:00 PM Wednesday - 6:00 PM Thursday · Gale Advisory. 9:00 PM Wednesday - 9:00 PM Thursday.'}, {'title': 'Tokyo - Japan National Tourism Organization', 'link': 'https://www.japan.travel/en/weather/kanto/tokyo/', 'snippet': 'Tokyo (Tokyo) ; 26 Nov (Tuesday), 311 Rain, clear later, 21°, 11°, 100% ; 27 Nov (Wednesday), 100 Clear, 18°, 8°, 0%.'}, {'title': 'Tokyo - Long term forecast - Yr', 'link': 'https://www.yr.no/en/forecast/daily-table/2-1850147/Japan/Tokyo/Tokyo', 'snippet': 'Weather forecast for Tokyo for the next 10 days.'}, {'title': 'Weather Tomorrow for Tokyo, Tokyo, Japan - AccuWeather', 'link': 'https://www.accuweather.com/en/jp/tokyo/226396/weather-tomorrow/226396', 'snippet': 'Tokyo, Tokyo · Around the Globe · Day · Night · Sun & Moon · Temperature History · Further Ahead · Around the Globe · Weather Near Tokyo: Funabashi-shi ...'}, {'title': 'Weather Tokyo. 14 day Forecast - yourweather.co.uk | Meteored', 'link': 'https://www.yourweather.co.uk/weather_Tokyo-Asia-Japan-Tokyo-RJTD-1-12788.html', 'snippet': 'Tokyo Weather Forecast. Access detailed hourly and 14 day forecasts, current conditions, maps, warnings, meteograms, historical data and more for Tokyo.'}, {'title': 'Japan Meteorological Agency', 'link': 'https://www.jma.go.jp/jma/indexe.html', 'snippet': 'Weather · Risk Maps · Heavy Rain/Heavy Snow. Heavy Rain/Heavy ... Tokyo Climate Center: TCC News No. 76 (6 June 2024); More news releases ...'}, {'title': 'Tokyo - Hourly weather forecast - Yr', 'link': 'https://www.yr.no/en/forecast/hourly-table/2-1850147/Japan/Tokyo/Tokyo?i=0', 'snippet': 'Weather forecast for the next 9 days · Today 26 Nov. Morning: partly cloudy. Afternoon: cloudy · Wednesday 27 Nov. Night: heavy rain · Thursday 28 Nov. Night: ...'}, {'title': 'Weather Tokyo - meteoblue', 'link': 'https://www.meteoblue.com/en/weather/week/tokyo_japan_1850147', 'snippet': 'MENA Climate Proof Forum Dubai · 00:00 to 01:00: 100% chance of precipitation in the area. · 03:00 to 04:00: 90% chance of precipitation in the area. · 06:00 to ...'}, {'title': 'Tokyo - The Japan Times', 'link': 'https://www.japantimes.co.jp/weather/tokyo', 'snippet': 'Weather. Japan 5-day Weather Forecast. Day, Wednesday, Thursday, Friday, Saturday, Sunday. Tokyo. Considerable cloudiness 20℃/9℃.'}], 'topStories': [], 'images': [], 'graph': None, 'answerBox': {'title': 'Tokyo / Weather', 'answer': '14°C', 'source': 'weathernews', 'sourceLink': 'https://weathernews.jp/onebox/35.68/139.65'}}\n",
      "dict_keys(['organic', 'topStories', 'images', 'graph', 'answerBox'])\n",
      "{'title': 'Tokyo / Weather', 'answer': '14°C', 'source': 'weathernews', 'sourceLink': 'https://weathernews.jp/onebox/35.68/139.65'}\n",
      "\n",
      "data:{\"type\":\"sources\",\"data\":{\"organic\":[{\"title\":\"Tokyo, Tokyo, Japan Weather Forecast - AccuWeather\",\"link\":\"https://www.accuweather.com/en/jp/tokyo/226396/weather-forecast/226396\",\"snippet\":\"Tokyo, Tokyo, Japan Weather Forecast, with current conditions, wind, air quality, and what to expect for the next 3 days.\"},{\"title\":\"Tokyo, Japan 14 day weather forecast - Time and Date\",\"link\":\"https://www.timeanddate.com/weather/japan/tokyo/ext\",\"snippet\":\"Tokyo Extended Forecast with high and low temperatures ... Sunny. Feels Like: 57 °F. Humidity: 46 ...\"},{\"title\":\"10-Day Weather Forecast for Minato-ku, Tokyo Prefecture, Japan\",\"link\":\"https://weather.com/weather/tenday/l/Minato+ku+Tokyo+Prefecture+Japan?canonicalCityId=88531c440be4859e58ca9bee96a8fef95643429857e3c626542368c9cb3c4815\",\"snippet\":\"A few passing clouds. Low 49F. Winds SW at 5 to 10 mph. undefined. Heads-up. Snow, Cold Take Aim At Northeast Late Week ...\"},{\"title\":\"Tokyo, Tokyo, Japan Hourly Weather | AccuWeather\",\"link\":\"https://www.accuweather.com/en/jp/tokyo/226396/hourly-weather-forecast/226396\",\"snippet\":\"WindN 9 mph. Air QualityFair. Wind Gusts12 mph. Humidity59%. Indoor Humidity42% (Ideal Humidity). Dew Point44° F. Cloud Cover98%. Visibility10 mi.\"},{\"title\":\"Tokyo (Japan) weather - Met Office\",\"link\":\"https://www.metoffice.gov.uk/weather/forecast/xn76urzn2\",\"snippet\":\"Sunny changing to partly cloudy by early evening. Most likely maximum day time temperature 16 degrees Celsius and highest possible is 17 degrees, ...\"},{\"title\":\"10-Day Weather Forecast for Tokyo, Tokyo Prefecture, Japan\",\"link\":\"https://weather.com/weather/tenday/l/4ba28384e2da53b2861f5b5c70b7332e4ba1dc83e75b948e6fbd2aaceeeceae3\",\"snippet\":\"Cloudy with periods of rain. Low around 50F. Winds SW at 10 to 20 mph. Chance of rain 100%. 1 to 2 inches of rain expected. Humidity95%. UV Index0 of 11.\"},{\"title\":\"Weather for Tokyo, Japan - Time and Date\",\"link\":\"https://www.timeanddate.com/weather/japan/tokyo\",\"snippet\":\"Mostly clear. Clear. Sunny. Sunny. Clear. Feels Like, 54 °F, 65 °F, 52 ° ...\"},{\"title\":\"Tokyo - BBC Weather\",\"link\":\"https://www.bbc.com/weather/1850147\",\"snippet\":\"A clear sky and a gentle breezeSunny and a moderate breezeSunny and a gentle breezeSunny and light windsSunny and light windsSunny intervals and light ...\"},{\"title\":\"Tokyo, Japan 10-Day Weather Forecast\",\"link\":\"https://www.wunderground.com/forecast/jp/tokyo\",\"snippet\":\"Tokyo Weather Forecasts. Weather Underground provides local & long-range weather forecasts, weatherreports, maps & tropical weather conditions for the Tokyo ...\"},{\"title\":\"Tokyo, Tokyo, Japan Current Weather | AccuWeather\",\"link\":\"https://www.accuweather.com/en/jp/tokyo/226396/current-weather/226396\",\"snippet\":\"Current Weather. 9:39 PM. 59°F. Mostly clear. RealFeel® 56°. Cool. RealFeel Guide. Cool. 53° to 62°. Light jacket or sweater may be appropriate.\"},{\"title\":\"Japan Meteorological Agency | Weather forecast\",\"link\":\"https://www.data.jma.go.jp/multi/yoho/yoho_detail.html\",\"snippet\":\"One-week forecasts ; 30 (Wednesday), 31 (Thursday), 1 (Friday) ; RAIN, CLOUDY LATER. PARTLY CLOUDY. CLOUDY ; --%, 20%, 40% ...\"},{\"title\":\"Tokyo, Tokyo, Japan Daily Weather - AccuWeather\",\"link\":\"https://www.accuweather.com/en/jp/tokyo/226396/daily-weather-forecast/226396\",\"snippet\":\"Thu 11/28 · Gale Advisory. 9:00 PM Wednesday - 6:00 PM Thursday · Gale Advisory. 9:00 PM Wednesday - 9:00 PM Thursday.\"},{\"title\":\"Tokyo - Japan National Tourism Organization\",\"link\":\"https://www.japan.travel/en/weather/kanto/tokyo/\",\"snippet\":\"Tokyo (Tokyo) ; 26 Nov (Tuesday), 311 Rain, clear later, 21°, 11°, 100% ; 27 Nov (Wednesday), 100 Clear, 18°, 8°, 0%.\"},{\"title\":\"Tokyo - Long term forecast - Yr\",\"link\":\"https://www.yr.no/en/forecast/daily-table/2-1850147/Japan/Tokyo/Tokyo\",\"snippet\":\"Weather forecast for Tokyo for the next 10 days.\"},{\"title\":\"Weather Tomorrow for Tokyo, Tokyo, Japan - AccuWeather\",\"link\":\"https://www.accuweather.com/en/jp/tokyo/226396/weather-tomorrow/226396\",\"snippet\":\"Tokyo, Tokyo · Around the Globe · Day · Night · Sun & Moon · Temperature History · Further Ahead · Around the Globe · Weather Near Tokyo: Funabashi-shi ...\"},{\"title\":\"Weather Tokyo. 14 day Forecast - yourweather.co.uk | Meteored\",\"link\":\"https://www.yourweather.co.uk/weather_Tokyo-Asia-Japan-Tokyo-RJTD-1-12788.html\",\"snippet\":\"Tokyo Weather Forecast. Access detailed hourly and 14 day forecasts, current conditions, maps, warnings, meteograms, historical data and more for Tokyo.\"},{\"title\":\"Japan Meteorological Agency\",\"link\":\"https://www.jma.go.jp/jma/indexe.html\",\"snippet\":\"Weather · Risk Maps · Heavy Rain/Heavy Snow. Heavy Rain/Heavy ... Tokyo Climate Center: TCC News No. 76 (6 June 2024); More news releases ...\"},{\"title\":\"Tokyo - Hourly weather forecast - Yr\",\"link\":\"https://www.yr.no/en/forecast/hourly-table/2-1850147/Japan/Tokyo/Tokyo?i=0\",\"snippet\":\"Weather forecast for the next 9 days · Today 26 Nov. Morning: partly cloudy. Afternoon: cloudy · Wednesday 27 Nov. Night: heavy rain · Thursday 28 Nov. Night: ...\"},{\"title\":\"Weather Tokyo - meteoblue\",\"link\":\"https://www.meteoblue.com/en/weather/week/tokyo_japan_1850147\",\"snippet\":\"MENA Climate Proof Forum Dubai · 00:00 to 01:00: 100% chance of precipitation in the area. · 03:00 to 04:00: 90% chance of precipitation in the area. · 06:00 to ...\"},{\"title\":\"Tokyo - The Japan Times\",\"link\":\"https://www.japantimes.co.jp/weather/tokyo\",\"snippet\":\"Weather. Japan 5-day Weather Forecast. Day, Wednesday, Thursday, Friday, Saturday, Sunday. Tokyo. Considerable cloudiness 20℃/9℃.\"}],\"topStories\":[],\"images\":[],\"graph\":null,\"answerBox\":{\"title\":\"Tokyo / Weather\",\"answer\":\"14°C\",\"source\":\"weathernews\",\"sourceLink\":\"https://weathernews.jp/onebox/35.68/139.65\"}}}\n",
      "\n",
      "data:{\"type\":\"error\",\"data\":\"We are currently experiencing some issues. Please try again later.\"}\n",
      "\n",
      "\n",
      "\n"
     ]
    }
   ],
   "source": [
    "from main import ask\n",
    "import nest_asyncio\n",
    "nest_asyncio.apply()\n",
    "import asyncio\n",
    "import json \n",
    "\n",
    "output = ask(\"What is the weather in Tokyo?\", \"2024-11-25\", \"jp\", False)\n",
    "\n",
    "def get_answer_text(response):\n",
    "\n",
    "    lines = response.split('\\n')\n",
    "    answer = []\n",
    "    for line in lines:\n",
    "        if line:\n",
    "            # line = line.decode('utf-8')\n",
    "            if line.startswith('data:'):\n",
    "                try:\n",
    "                    data = json.loads(line[5:])\n",
    "                    if data['type'] == 'llm':\n",
    "                        answer.append(data['text'])\n",
    "                except:\n",
    "                    pass\n",
    "    return ''.join(answer)\n",
    "\n",
    "import asyncio\n",
    "\n",
    "async def read_stream(response):\n",
    "    text = \"\"\n",
    "    async for chunk in response.body_iterator:\n",
    "        if isinstance(chunk, bytes):\n",
    "            text += chunk.decode()\n",
    "        else:\n",
    "            text += chunk\n",
    "    return text\n",
    "\n",
    "# Run the async function\n",
    "text = asyncio.run(read_stream(output))\n",
    "print(text)\n",
    "\n",
    "final_text = get_answer_text(text)\n",
    "print(final_text)\n"
   ]
  },
  {
   "cell_type": "code",
   "execution_count": 2,
   "metadata": {},
   "outputs": [
    {
     "name": "stderr",
     "output_type": "stream",
     "text": [
      "2024-11-26 14:55:22,230 - INFO - HTTP Request: POST https://api.groq.com/openai/v1/chat/completions \"HTTP/1.1 200 OK\"\n",
      "2024-11-26 14:55:22,749 - INFO - HTTP Request: POST https://api.groq.com/openai/v1/chat/completions \"HTTP/1.1 200 OK\"\n"
     ]
    },
    {
     "name": "stdout",
     "output_type": "stream",
     "text": [
      "**As of November 26, 2024**\n",
      "\n",
      "The most valuable company in the world is **Nvidia**, with a market capitalization of **$3.47 trillion**.\n"
     ]
    }
   ],
   "source": [
    "from basic_qa_api import SentientSearchQA\n",
    "\n",
    "api = SentientSearchQA()\n",
    "\n",
    "final_text = api.chat_completion(\"What is the most valuable company in the world as of today?\")\n",
    "print(final_text)"
   ]
  },
  {
   "cell_type": "code",
   "execution_count": 3,
   "metadata": {},
   "outputs": [
    {
     "name": "stdout",
     "output_type": "stream",
     "text": [
      "**As of November 26, 2024**\n",
      "\n",
      "The most valuable company in the world is **Nvidia**, with a market capitalization of **$3.47 trillion**.\n"
     ]
    }
   ],
   "source": [
    "print(final_text)"
   ]
  },
  {
   "cell_type": "code",
   "execution_count": null,
   "metadata": {},
   "outputs": [],
   "source": []
  }
 ],
 "metadata": {
  "kernelspec": {
   "display_name": ".venv",
   "language": "python",
   "name": "python3"
  },
  "language_info": {
   "codemirror_mode": {
    "name": "ipython",
    "version": 3
   },
   "file_extension": ".py",
   "mimetype": "text/x-python",
   "name": "python",
   "nbconvert_exporter": "python",
   "pygments_lexer": "ipython3",
   "version": "3.10.12"
  }
 },
 "nbformat": 4,
 "nbformat_minor": 2
}
