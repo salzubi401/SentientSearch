{
 "cells": [
  {
   "cell_type": "code",
   "execution_count": 21,
   "metadata": {},
   "outputs": [],
   "source": [
    "from main import ask\n",
    "import nest_asyncio\n",
    "nest_asyncio.apply()\n",
    "import asyncio\n",
    "import json \n",
    "\n",
    "output = ask(\"What is the weather in Tokyo?\", \"2024-11-25\", \"jp\", False)\n",
    "\n",
    "def get_answer_text(response):\n",
    "\n",
    "    lines = response.split('\\n')\n",
    "    answer = []\n",
    "    for line in lines:\n",
    "        if line:\n",
    "            # line = line.decode('utf-8')\n",
    "            if line.startswith('data:'):\n",
    "                try:\n",
    "                    data = json.loads(line[5:])\n",
    "                    if data['type'] == 'llm':\n",
    "                        answer.append(data['text'])\n",
    "                except:\n",
    "                    pass\n",
    "    return ''.join(answer)\n",
    "\n",
    "import asyncio\n",
    "\n",
    "async def read_stream(response):\n",
    "    text = \"\"\n",
    "    async for chunk in response.body_iterator:\n",
    "        if isinstance(chunk, bytes):\n",
    "            text += chunk.decode()\n",
    "        else:\n",
    "            text += chunk\n",
    "    return text\n",
    "\n",
    "# Run the async function\n",
    "text = asyncio.run(read_stream(output))\n",
    "print(text)\n",
    "\n",
    "final_text = get_answer_text(text)\n",
    "print(final_text)\n"
   ]
  },
  {
   "cell_type": "code",
   "execution_count": 1,
   "metadata": {},
   "outputs": [
    {
     "name": "stderr",
     "output_type": "stream",
     "text": [
      "/home/ubuntu/salah/SentientSearch/.venv/lib/python3.10/site-packages/tqdm/auto.py:21: TqdmWarning: IProgress not found. Please update jupyter and ipywidgets. See https://ipywidgets.readthedocs.io/en/stable/user_install.html\n",
      "  from .autonotebook import tqdm as notebook_tqdm\n",
      "2024-11-26 13:31:15,559 - WARNING - USER_AGENT environment variable not set, consider setting it to identify your requests.\n",
      "2024-11-26 13:31:16,547 - INFO - HTTP Request: POST https://api.groq.com/openai/v1/chat/completions \"HTTP/1.1 200 OK\"\n",
      "2024-11-26 13:31:17,055 - INFO - HTTP Request: POST https://api.groq.com/openai/v1/chat/completions \"HTTP/1.1 200 OK\"\n"
     ]
    },
    {
     "name": "stdout",
     "output_type": "stream",
     "text": [
      "**Weather in Tokyo (as of 2024-11-26)**\n",
      "Cloudy with periods of rain. Low 52F (11°C). Winds SW at 15 to 25 mph. Chance of rain 100%. 1 to 2 inches of rain expected. **Heavy rain is expected today.**\n"
     ]
    }
   ],
   "source": [
    "from basic_qa_api import SentientSearchQA\n",
    "\n",
    "api = SentientSearchQA()\n",
    "\n",
    "final_text = api.chat_completion(\"What is the weather in Tokyo?\")\n",
    "print(final_text)"
   ]
  },
  {
   "cell_type": "code",
   "execution_count": 2,
   "metadata": {},
   "outputs": [
    {
     "name": "stdout",
     "output_type": "stream",
     "text": [
      "**Weather in Tokyo (as of 2024-11-26)**\n",
      "Cloudy with periods of rain. Low 52F (11°C). Winds SW at 15 to 25 mph. Chance of rain 100%. 1 to 2 inches of rain expected. **Heavy rain is expected today.**\n"
     ]
    }
   ],
   "source": [
    "print(final_text)"
   ]
  },
  {
   "cell_type": "code",
   "execution_count": null,
   "metadata": {},
   "outputs": [],
   "source": []
  }
 ],
 "metadata": {
  "kernelspec": {
   "display_name": ".venv",
   "language": "python",
   "name": "python3"
  },
  "language_info": {
   "codemirror_mode": {
    "name": "ipython",
    "version": 3
   },
   "file_extension": ".py",
   "mimetype": "text/x-python",
   "name": "python",
   "nbconvert_exporter": "python",
   "pygments_lexer": "ipython3",
   "version": "3.10.12"
  }
 },
 "nbformat": 4,
 "nbformat_minor": 2
}
