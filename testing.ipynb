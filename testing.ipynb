{
 "cells": [
  {
   "cell_type": "code",
   "execution_count": null,
   "metadata": {},
   "outputs": [],
   "source": [
    "from main import ask\n",
    "import nest_asyncio\n",
    "nest_asyncio.apply()\n",
    "import asyncio\n",
    "import json \n",
    "\n",
    "output = ask(\"What is the weather in Tokyo?\", \"2024-11-25\", \"jp\", False)\n",
    "\n",
    "def get_answer_text(response):\n",
    "\n",
    "    lines = response.split('\\n')\n",
    "    answer = []\n",
    "    for line in lines:\n",
    "        if line:\n",
    "            # line = line.decode('utf-8')\n",
    "            if line.startswith('data:'):\n",
    "                try:\n",
    "                    data = json.loads(line[5:])\n",
    "                    if data['type'] == 'llm':\n",
    "                        answer.append(data['text'])\n",
    "                except:\n",
    "                    pass\n",
    "    return ''.join(answer)\n",
    "\n",
    "import asyncio\n",
    "\n",
    "async def read_stream(response):\n",
    "    text = \"\"\n",
    "    async for chunk in response.body_iterator:\n",
    "        if isinstance(chunk, bytes):\n",
    "            text += chunk.decode()\n",
    "        else:\n",
    "            text += chunk\n",
    "    return text\n",
    "\n",
    "# Run the async function\n",
    "text = asyncio.run(read_stream(output))\n",
    "print(text)\n",
    "\n",
    "final_text = get_answer_text(text)\n",
    "print(final_text)\n"
   ]
  },
  {
   "cell_type": "code",
   "execution_count": null,
   "metadata": {},
   "outputs": [],
   "source": [
    "from basic_qa_api import SentientSearchQA\n",
    "\n",
    "api = SentientSearchQA()\n",
    "\n",
    "final_text = api.chat_completion(\"What is the most valuable company in the world as of today?\")\n",
    "print(final_text)"
   ]
  },
  {
   "cell_type": "code",
   "execution_count": 2,
   "metadata": {},
   "outputs": [],
   "source": [
    "import time\n",
    "import requests\n",
    "\n",
    "\n",
    "def make_request(url, params=None):\n",
    "    try:\n",
    "        response = requests.get(url, params=params)\n",
    "        response.raise_for_status()  # Raise an exception for 4xx or 5xx status codes\n",
    "        return response.json()\n",
    "    except requests.exceptions.RequestException as e:\n",
    "        print(f\"Request failed: {e}\")\n",
    "        return None"
   ]
  },
  {
   "cell_type": "code",
   "execution_count": 1,
   "metadata": {},
   "outputs": [],
   "source": [
    "olo_api_key = \"olostep_beta_api_PRJCKQkGrfKWFmOewBWBhJWlV3VFHBafh7zk\""
   ]
  },
  {
   "cell_type": "code",
   "execution_count": 3,
   "metadata": {},
   "outputs": [],
   "source": [
    "def scrape_website(start_url):\n",
    "    print(f\"[scrape_website]: Scraping {start_url}\")\n",
    "    endpoint = \"https://agent.olostep.com/olostep-p2p-incomingAPI\"\n",
    "    query_params = {\n",
    "        \"token\": olo_api_key,\n",
    "        \"url\": start_url,\n",
    "        \"timeout\": 65,\n",
    "        \"waitBeforeScraping\": 0,\n",
    "        \"removeCSSselectors\": 'none',\n",
    "        \"nodeCountry\": \"US\",\n",
    "        \"expandHtml\": True\n",
    "    }\n",
    "    json_response = make_request(endpoint, params=query_params)\n",
    "    if json_response is None:\n",
    "        return None, None\n",
    "    else:\n",
    "        return (json_response['defaultDatasetId'],\n",
    "                #json_response['html_content']\n",
    "                json_response['markdown_content']\n",
    "        )"
   ]
  },
  {
   "cell_type": "code",
   "execution_count": null,
   "metadata": {},
   "outputs": [],
   "source": [
    "final_website = scrape_website(\"https://en.m.wikipedia.org/wiki/Squid_Game\")"
   ]
  },
  {
   "cell_type": "code",
   "execution_count": 1,
   "metadata": {},
   "outputs": [],
   "source": [
    "urls = ['https://nssdc.gsfc.nasa.gov/nmc/spacecraft/display.action?id=1969-059A', 'https://brainly.com/question/47439355', 'https://en.wikipedia.org/wiki/Apollo_11', 'https://space.stackexchange.com/questions/66760/how-much-sample-mass-could-apollo-11-have-brought-back']"
   ]
  },
  {
   "cell_type": "code",
   "execution_count": 2,
   "metadata": {},
   "outputs": [],
   "source": [
    "from src.sentientsearch.scrapers.extract_content_olostep import extract_content\n",
    "from src.sentientsearch.rerankers.nvidia_reranking import get_reranking_nvidia\n",
    "from src.sentientsearch.semantic_chunking import get_chunking\n",
    "from markdownify import markdownify as md_to_text\n",
    "\n",
    "websites = [md_to_text(x['markdown_content']) for x in extract_content(urls)]\n"
   ]
  },
  {
   "cell_type": "code",
   "execution_count": 12,
   "metadata": {},
   "outputs": [],
   "source": []
  },
  {
   "cell_type": "code",
   "execution_count": 8,
   "metadata": {},
   "outputs": [
    {
     "name": "stderr",
     "output_type": "stream",
     "text": [
      "/home/ubuntu/salah/SentientSearch/.venv/lib/python3.10/site-packages/tqdm/auto.py:21: TqdmWarning: IProgress not found. Please update jupyter and ipywidgets. See https://ipywidgets.readthedocs.io/en/stable/user_install.html\n",
      "  from .autonotebook import tqdm as notebook_tqdm\n"
     ]
    }
   ],
   "source": [
    "\n"
   ]
  },
  {
   "cell_type": "code",
   "execution_count": 9,
   "metadata": {},
   "outputs": [
    {
     "name": "stderr",
     "output_type": "stream",
     "text": [
      "\u001b[32m2024-12-06 16:03:38 INFO semantic_chunkers.utils.logger Single document exceeds the maximum token limit of 200. Splitting to sentences before semantically merging.\u001b[0m\n",
      " 50%|█████     | 1/2 [00:00<00:00,  5.51it/s]\u001b[31m2024-12-06 16:03:38 ERROR semantic_chunkers.utils.logger Error encoding documents ['The outer skin of the SM was formed of 2.5 cm thick aluminum honeycomb panels.', 'The interior was divided by milled aluminum radial beams into six sections around a central cylinder.', 'At the back of the SM mounted in the central cylinder was a gimbal mounted re-startable hypergolic liquid propellant 91,000 N engine and cone shaped engine nozzle.', 'Attitude control was provided by four identical banks of four 450 N reaction control thrusters each spaced 90 degrees apart around the forward part of the SM.', 'The six sections of the SM held three 31-cell hydrogen oxygen fuel cells which provided 28 volts, two cryogenic oxygen and two cryogenic hydrogen tanks, four tanks for the main propulsion engine, two for fuel and two for oxidizer, and the subsystems the main propulsion unit.', 'Two helium tanks were mounted in the central cylinder.', 'Electrical power system radiators were at the top of the cylinder and environmental control radiator panels spaced around the bottom. </p> <h4>Apollo Program</h4> <p> The Apollo program included a large number of uncrewed test missions and 12 crewed missions: three Earth orbiting missions (Apollo 7, 9 and Apollo-Soyuz), two lunar orbiting missions (Apollo 8 and 10), a lunar swingby (Apollo 13), and six Moon landing missions (Apollo 11, 12, 14, 15, 16, and 17).', 'Two astronauts from each of these six missions walked on the Moon (Neil Armstrong, Edwin Aldrin, Charles Conrad, Alan Bean, Alan Shepard, Edgar Mitchell, David Scott, James Irwin, John Young, Charles Duke, Gene Cernan, and Harrison Schmitt), the only humans to have set foot on another solar system body.', 'Total funding for the Apollo program was approximately $20,443,600,000. </p> <p> For information on the Lunar Module and details of activities on the lunar surface, see: </p> <p> <a href=\"http://nssdc.gsfc.nasa.gov/nmc/spacecraftDisplay.do?id=1969-059C\">http://nssdc.gsfc.nasa.gov/nmc/spacecraftDisplay.do?id=1969-059C</a></p></p></div><div class=\"urtwo\"><h2>Alternate Names</h2><ul><li>04039</li><li>Apollo 11 CSM</li><li>Apollo11CSM</li><li>CSM-107</li><li>Columbia</li><li>PL-693H</li><li>SA-506</li></ul><h2>Facts in Brief</h2><p><strong>Launch Date:</strong>\\xa01969-07-16<br /><strong>Launch\\xa0Vehicle:</strong>\\xa0Saturn 5<br /><strong>Launch\\xa0Site:</strong>\\xa0Cape Canaveral, United States<br /><strong>Mass:</strong>\\xa028801\\xa0kg<br /></p><h2>Funding Agency</h2><ul><li>NASA-Office of Manned Space Flight\\xa0(United States)</li></ul><h2>Disciplines</h2><ul><li>Planetary Science</li><li>Human Crew</li></ul><h2>Additional Information</h2><ul><li><a href=\"/nmc/spacecraft/displayTrajectory.action?id=1969-059A\">Launch/Orbital information for Apollo 11 Command and Service Module (CSM)</a></li><li><a href=\"/nmc/spacecraft/displayTelemetry.action?id=1969-059A\">Telecommunications information for Apollo 11 Command and Service Module (CSM)</a></li></ul><ul><li><a href=\"/nmc/spacecraft/displayExperiment.action?spacecraftId=1969-059A\">Experiments on Apollo 11 Command and Service Module (CSM)</a></li><li><a href=\"/nmc/spacecraft/displayDataset.action?spacecraftId=1969-059A\">Data collections from Apollo 11 Command and Service Module (CSM)</a></li></ul><h2></h2><p> Questions and comments about this spacecraft can be directed to: <a href=\"mailto:\\\\[David.R.Williams@nasa.gov\\\\]?Subject=NMC+Comment%2FQuestion%3A+Apollo+11+Command+and+Service+Module+%28CSM%29+%281969-059A%29\">Dr.', 'David R.', 'Williams</a></p></div></div><div class=\"clear\">\\xa0</div><h2>Personnel</h2><table cellspacing=\"0\" class=\"alternate\"><thead><tr><th>Name</th><th>Role</th><th>Original\\xa0Affiliation</th><th>E-mail</th></tr></thead><tbody><tr><td>Lgen Samuel C.', 'Phillips</td><td>Project Manager</td><td>NASA Headquarters</td><td></td></tr></tbody></table><h2>Selected\\xa0References</h2><ul><li>Apollo 11 preliminary science report, NASA, SP-214, Wash, DC, 1969.</li></ul><div class=\"capleft\" style=\"width:230px;\"> <a href=\"/image/spacecraft/apollo\\\\_csm\\\\_diagram.gif\"><img src=\"/thumbnail/spacecraft/apollo\\\\_csm\\\\_diagram.gif\" alt=\"Diagram of Apollo 11 Command Module\" width=\"229\" height=\"200\" /></a> <p>Diagram of the Apollo CSM. (Courtesy of <a href=\"http://history.nasa.gov/diagrams/apollo.html\">NASA History Office</a>.)</p> </div> <h2>Other Sources of Apollo 11 Information at NSSDCA</h2> <p> <a href=\"/nmc/spacecraftDisplay.do?id=1969-059C\">Apollo 11 Lunar Module</a><br /> <a href=\"/planetary/lunar/apollo11.html\">Apollo 11 Mission</a> - images, audio, and a brief history.<br /> <a href=\"http://nssdc.gsfc.nasa.gov/planetary/lunar/apollo11info.html\">Apollo 11 </a> - with links to other Apollo 11 sites </p> <h2>Other Sources of Apollo Information at NSSDCA</h2> <p> <a href=\"/planetary/lunar/apollo.html\">Apollo Page</a><br /> <a href=\"/planetary/lunar/apollo11.html\">Lunar Science Page</a> </p> <div class=\"clear\"></div> <h2>Related Information at NSSDCA</h2> <p> <a href=\"/planetary/planets/moonpage.html\">Moon Page</a> </p></div><div id=\"leftcontent\"><div id=\"leftnav\"><h2>NSSDCA Master Catalog Search</h2> <ul> <li id=\"lnone\"><a href=\"/nmc/SpacecraftQuery.jsp\">Spacecraft</a></li> <li id=\"lntwo\"><a href=\"/nmc/ExperimentQuery.jsp\">Experiments</a></li> <li id=\"lnthree\"><a href=\"/nmc/DatasetQuery.jsp\">Data Collections</a></li> <li id=\"lnfour\"><a href=\"/nmc/PersonQuery.jsp\">Personnel</a></li> <li id=\"lnfive\"><a href=\"/nmc/PublicationQuery.jsp\">Publications</a></li> <li id=\"lnsix\"><a href=\"/nmc/MapQuery.jsp\">Maps</a></li> <li id=\"lnseven\"><a href=\"/nmc/NewDataQuery.jsp\">New/Updated Data</a></li> <li id=\"lneight\"><a href=\"/nmc/EventQuery.jsp\">Lunar/Planetary Events</a></li> </ul> </div><a href=\"https://nssdc.gsfc.nasa.gov/planetary/image/ap11\\\\_cm\\\\_as11\\\\_37\\\\_5443.jpg\"><img height=\"177\" width=\"175\" alt=\"Image of the Apollo 11 Command and Service Module (CSM) spacecraft.\" src=\"https://nssdc.gsfc.nasa.gov/planetary/thumbnail/ap11\\\\_cm\\\\_as11\\\\_37\\\\_5443.gif\" /></a></div></div> <div id=\"nasafoot\"> <a href=\"http://www.usa.gov/\" target=\"\\\\_blank\"><img src=\"/logo/usagov\\\\_logo.gif\" width=\"130\" height=\"34\" alt=\"\\\\[USA.gov\\\\]\" /></a> <div id=\"nasafootplus\"> <ul> <li>+ <a href=\"http://www.nasa.gov/about/highlights/HP\\\\_Privacy.html\">Privacy Policy and Important Notices</a></li> </ul> </div> <a href=\"http://www.nasa.gov/\" target=\"\\\\_blank\"><img id=\"nasafootr\" src=\"/logo/nasa\\\\_logo\\\\_small.gif\" width=\"61\" height=\"40\" vspace=\"5\" alt=\"NASA Logo - nasa.gov\" /></a> <div id=\"nasafootlinks\"> <ul> <li>NASA Official: <a href=\"mailto:David.R.Williams@nasa.gov\">Dr.', 'David R.', 'Williams</a></li> <li>Curator: <a href=\"mailto:Ed.Bell@nasa.gov\">E.', 'Bell, II</a></li> <li>Version 5.1.15, 28 October 2022</li> </ul> </div> </div></div><div xmlns=\"\" id=\"volume-booster-visusalizer\"> <div class=\"sound\"> <div class=\"sound-icon\"/> <div class=\"sound-wave sound-wave\\\\_one\"/> <div class=\"sound-wave sound-wave\\\\_two\"/> <div class=\"sound-wave sound-wave\\\\_three\"/> </div> <div class=\"segments-box\"> <div data-range=\"1-20\" class=\"segment\"><span/></div> <div data-range=\"21-40\" class=\"segment\"><span/></div> <div data-range=\"41-60\" class=\"segment\"><span/></div> <div data-range=\"61-80\" class=\"segment\"><span/></div> <div data-range=\"81-100\" class=\"segment\"><span/></div> </div> </div></body></html></x-turndown>']: NVIDIA API call failed. Error: 400 Client Error: Bad Request for url: http://localhost:8000/v1/embeddings\u001b[0m\n",
      " 50%|█████     | 1/2 [00:00<00:00,  5.08it/s]"
     ]
    },
    {
     "name": "stdout",
     "output_type": "stream",
     "text": [
      "Error during chunking process: NVIDIA API call failed. Error: 400 Client Error: Bad Request for url: http://localhost:8000/v1/embeddings\n"
     ]
    },
    {
     "name": "stderr",
     "output_type": "stream",
     "text": [
      "\n"
     ]
    }
   ],
   "source": [
    "chunked_outputs = get_chunking(lists[0])"
   ]
  },
  {
   "cell_type": "code",
   "execution_count": 14,
   "metadata": {},
   "outputs": [],
   "source": [
    "md_content = lists[0]['markdown_content']"
   ]
  },
  {
   "cell_type": "code",
   "execution_count": 15,
   "metadata": {},
   "outputs": [],
   "source": [
    "md_content = md_to_text(md_content)"
   ]
  },
  {
   "cell_type": "code",
   "execution_count": 17,
   "metadata": {},
   "outputs": [
    {
     "name": "stdout",
     "output_type": "stream",
     "text": [
      "NASA - NSSDCA - Spacecraft - Details @import url(\"/style/nasa\\\\_style.css\"); @import url(\"/style/jin\\\\_style.css\");   [![NASA Logo, National Aeronautics and Space Administration](/logo/nasa\\_bigheader\\_logo.gif)](http://www.nasa.gov/) \n",
      "\n",
      "* Friday, 06 December 2024\n",
      "  ![NASA Space Science Data Coordinated Archive Header](/logo/nssdca\\_header.jpg)\n",
      "\n",
      "Apollo 11 Command and Service Module (CSM)\n",
      "==========================================\n",
      "\n",
      "**NSSDCA/COSPAR ID:** 1969-059A\n",
      "\n",
      "Description\n",
      "-----------\n",
      "\n",
      "\n",
      "\n",
      "Apollo 11 was the first mission in which humans walked on the lunar surface and returned to Earth. On 20 July 1969 two astronauts (Apollo 11 Commander Neil A. Armstrong and LM pilot Edwin E. \"Buzz\" Aldrin Jr.) landed in Mare Tranquilitatis (the Sea of Tranquility) on the Moon in the Lunar Module (LM) while the Command and Service Module (CSM) (with CM pilot Michael Collins) continued in lunar orbit. During their stay on the Moon, the astronauts set up scientific experiments, took photographs, and collected lunar samples. The LM took off from the Moon on 21 July and the astronauts returned to Earth on 24 July.\n",
      "\n",
      "#### Mission Profile\n",
      "\n",
      "After launch on Saturn V SA-504 on 16 July 1969 at 13:32 UT (9:32 a.m. EDT) from pad 39A of Kennedy Space Center, Apollo 11 entered Earth orbit. After 1 1/2 Earth orbits, the S-IVB stage was re-ignited at 16:16:16 UT for a translunar injection burn of 5 minutes, 48 seconds putting the spacecraft on course for the Moon. The CSM separated from the S-IVB stage containing the LM 33 minutes later, turned around and docked with the LM at 16:56:03 UT. About an hour and 15 minutes later the S-IVB stage was injected into heliocentric orbit. During translunar coast a color TV transmission was made from Apollo 11 and on 17 July a 3-second mid-course correction burn of the main engine was performed. Lunar orbit insertion was achieved on 19 July at 17:21:50 UT by a retrograde firing of the main engine for 357.5 seconds while the spacecraft was behind the Moon and out of contact with Earth. A later 17 second burn circularized the orbit. On 20 July Armstrong and Aldrin entered the LM for final checkout. At 17:44:00 the LM and CSM undocked. After a visual inspection by Collins, at 18:11:53 a separation maneuver was performed, moving the two spacecraft apart. The LM descent engine fired for 30 seconds at 19:08 UT, putting the craft into a descent orbit with a closest approach 14.5 km above the Moon's surface. At 20:05 the LM descent engine fired for 756.3 seconds and descent to the lunar surface began.\n",
      "\n",
      "The LM landed at 20:17:40 UT (4:17:40 p.m. EDT) in Mare Tranquilitatis (the Sea of Tranquility), Armstrong reporting, \"Houston, Tranquility Base here - the Eagle has landed.\" Armstrong stepped onto the lunar surface at 02:56:15 UT on 21 July (10:56:15 p.m. July 20 EDT) stating, \"That's one small step for man, one giant leap for mankind\", and Aldrin followed 19 minutes later. The astronauts deployed the EASEP and other instruments, took photographs, and collected 21.55 kg of lunar rock and soil. The astronauts traversed a total distance of about 250 meters. The EVA ended at 5:11:13 UT when the astronauts returned to the LM and closed the hatch.\n",
      "\n",
      "The LM lifted off from the Moon at 17:54:01 UT on 21 July after 21 hours, 36 minutes on the lunar surface. After docking with the CSM at 21:34:00 UT, the LM was jettisoned into lunar orbit at 00:01:01 UT on 22 July. Transearth injection began at 04:54:42 UT on 22 July with a 2 1/2 minute firing of the CSM main engine. A mid-course correction was made later on 22 July. The CM separated from the SM at 16:21:13 UT on 24 July. Apollo 11 splashed down in the Pacific Ocean on 24 July 1969 at 16:50:35 UT (12:50:35 p.m. EDT) after a mission elapsed time of 195 hrs, 18 mins, 35 secs. The splashdown point was 13 deg 19 min N, 169 deg 9 min W, 400 miles SSW of Wake Island and 24 km (15 mi) from the recovery ship USS Hornet.\n",
      "\n",
      "The performance of the spacecraft was excellent throughout the mission. The primary mission goal of landing astronauts on the Moon and returning them to Earth was achieved. Armstrong was a civilian on his second spaceflight (he'd previously flown on Gemini 8), Aldrin was a USAF Colonel on his second spaceflight (Gemini 12), Collins was a USAF Lt. Colonel also on his second flight (Gemini 10). The backup crew for this mission was Jim Lovell, Fred Haise, and William Anders. The Apollo 11 Command Module is on display at the National Air and Space Museum in Washington, D.C.\n",
      "\n",
      "#### Spacecraft and Subsystems\n",
      "\n",
      "As the name implies, the Command and Service Module (CSM) comprised two distinct units: the Command Module (CM), which housed the crew, spacecraft operations systems, and re-entry equipment, and the Service Module (SM) which carried most of the consumables (oxygen, water, helium, fuel cells, and fuel) and the main propulsion system. The total length of the two modules attached was 11.0 meters with a maximum diameter of 3.9 meters. Block II CSM's were used for all the crewed Apollo missions. The Apollo 11 CSM mass of 28,801 kg was the launch mass including propellants and expendables, of this the Command Module (CM 107) had a mass of 5557 kg and the Service Module (SM 107) 23,244 kg.\n",
      "\n",
      "Telecommunications included voice, television, data, and tracking and ranging subsystems for communications between astronauts, CM, LM, and Earth. Voice contact was provided by an S-band uplink and downlink system. Tracking was done through a unified S-band transponder. A high gain steerable S-band antenna consisting of four 79-cm diameter parabolic dishes was mounted on a folding boom at the aft end of the SM. Two VHF scimitar antennas were also mounted on the SM. There was also a VHF recovery beacon mounted in the CM. The CSM environmental control system regulated cabin atmosphere, pressure, temperature, carbon dioxide, odors, particles, and ventilation and controlled the temperature range of the electronic equipment.\n",
      "\n",
      "#### Command Module\n",
      "\n",
      "The CM was a conical pressure vessel with a maximum diameter of 3.9 m at its base and a height of 3.65 m. It was made of an aluminum honeycomb sandwhich bonded between sheet aluminum alloy. The base of the CM consisted of a heat shield made of brazed stainless steel honeycomb filled with a phenolic epoxy resin as an ablative material and varied in thickness from 1.8 to 6.9 cm. At the tip of the cone was a hatch and docking assembly designed to mate with the lunar module. The CM was divided into three compartments. The forward compartment in the nose of the cone held the three 25.4 m diameter main parachutes, two 5 m drogue parachutes, and pilot mortar chutes for Earth landing. The aft compartment was situated around the base of the CM and contained propellant tanks, reaction control engines, wiring, and plumbing. The crew compartment comprised most of the volume of the CM, approximately 6.17 cubic meters of space. Three astronaut couches were lined up facing forward in the center of the compartment. A large access hatch was situated above the center couch. A short access tunnel led to the docking hatch in the CM nose. The crew compartment held the controls, displays, navigation equipment and other systems used by the astronauts. The CM had five windows: one in the access hatch, one next to each astronaut in the two outer seats, and two forward-facing rendezvous windows. Five silver/zinc-oxide batteries provided power after the CM and SM detached, three for re-entry and after landing and two for vehicle separation and parachute deployment. The CM had twelve 420 N nitrogen tetroxide/hydrazine reaction control thrusters. The CM provided the re-entry capability at the end of the mission after separation from the Service Module.\n",
      "\n",
      "#### Service Module\n",
      "\n",
      "The SM was a cylinder 3.9 meters in diameter and 7.6 m long which was attached to the back of the CM. The outer skin of the SM was formed of 2.5 cm thick aluminum honeycomb panels. The interior was divided by milled aluminum radial beams into six sections around a central cylinder. At the back of the SM mounted in the central cylinder was a gimbal mounted re-startable hypergolic liquid propellant 91,000 N engine and cone shaped engine nozzle. Attitude control was provided by four identical banks of four 450 N reaction control thrusters each spaced 90 degrees apart around the forward part of the SM. The six sections of the SM held three 31-cell hydrogen oxygen fuel cells which provided 28 volts, two cryogenic oxygen and two cryogenic hydrogen tanks, four tanks for the main propulsion engine, two for fuel and two for oxidizer, and the subsystems the main propulsion unit. Two helium tanks were mounted in the central cylinder. Electrical power system radiators were at the top of the cylinder and environmental control radiator panels spaced around the bottom.\n",
      "\n",
      "#### Apollo Program\n",
      "\n",
      "The Apollo program included a large number of uncrewed test missions and 12 crewed missions: three Earth orbiting missions (Apollo 7, 9 and Apollo-Soyuz), two lunar orbiting missions (Apollo 8 and 10), a lunar swingby (Apollo 13), and six Moon landing missions (Apollo 11, 12, 14, 15, 16, and 17). Two astronauts from each of these six missions walked on the Moon (Neil Armstrong, Edwin Aldrin, Charles Conrad, Alan Bean, Alan Shepard, Edgar Mitchell, David Scott, James Irwin, John Young, Charles Duke, Gene Cernan, and Harrison Schmitt), the only humans to have set foot on another solar system body. Total funding for the Apollo program was approximately $20,443,600,000.\n",
      "\n",
      "For information on the Lunar Module and details of activities on the lunar surface, see:\n",
      "\n",
      "<http://nssdc.gsfc.nasa.gov/nmc/spacecraftDisplay.do?id=1969-059C>\n",
      "\n",
      "\n",
      "\n",
      "Alternate Names\n",
      "---------------\n",
      "\n",
      "* 04039\n",
      "* Apollo 11 CSM\n",
      "* Apollo11CSM\n",
      "* CSM-107\n",
      "* Columbia\n",
      "* PL-693H\n",
      "* SA-506\n",
      "\n",
      "Facts in Brief\n",
      "--------------\n",
      "\n",
      "**Launch Date:** 1969-07-16  \n",
      "**Launch Vehicle:** Saturn 5  \n",
      "**Launch Site:** Cape Canaveral, United States  \n",
      "**Mass:** 28801 kg  \n",
      "\n",
      "\n",
      "Funding Agency\n",
      "--------------\n",
      "\n",
      "* NASA-Office of Manned Space Flight (United States)\n",
      "\n",
      "Disciplines\n",
      "-----------\n",
      "\n",
      "* Planetary Science\n",
      "* Human Crew\n",
      "\n",
      "Additional Information\n",
      "----------------------\n",
      "\n",
      "* [Launch/Orbital information for Apollo 11 Command and Service Module (CSM)](/nmc/spacecraft/displayTrajectory.action?id=1969-059A)\n",
      "* [Telecommunications information for Apollo 11 Command and Service Module (CSM)](/nmc/spacecraft/displayTelemetry.action?id=1969-059A)\n",
      "\n",
      "* [Experiments on Apollo 11 Command and Service Module (CSM)](/nmc/spacecraft/displayExperiment.action?spacecraftId=1969-059A)\n",
      "* [Data collections from Apollo 11 Command and Service Module (CSM)](/nmc/spacecraft/displayDataset.action?spacecraftId=1969-059A)\n",
      "\n",
      "Questions and comments about this spacecraft can be directed to: [Dr. David R. Williams](mailto:\\[David.R.Williams@nasa.gov\\]?Subject=NMC+Comment%2FQuestion%3A+Apollo+11+Command+and+Service+Module+%28CSM%29+%281969-059A%29)\n",
      "\n",
      " \n",
      "\n",
      "Personnel\n",
      "---------\n",
      "\n",
      "| Name | Role | Original Affiliation | E-mail |\n",
      "| --- | --- | --- | --- |\n",
      "| Lgen Samuel C. Phillips | Project Manager | NASA Headquarters |  |\n",
      "\n",
      "Selected References\n",
      "-------------------\n",
      "\n",
      "* Apollo 11 preliminary science report, NASA, SP-214, Wash, DC, 1969.\n",
      "\n",
      " [![Diagram of Apollo 11 Command Module](/thumbnail/spacecraft/apollo\\_csm\\_diagram.gif)](/image/spacecraft/apollo\\_csm\\_diagram.gif)\n",
      "\n",
      "Diagram of the Apollo CSM. (Courtesy of [NASA History Office](http://history.nasa.gov/diagrams/apollo.html).)\n",
      "\n",
      "Other Sources of Apollo 11 Information at NSSDCA\n",
      "------------------------------------------------\n",
      "\n",
      "[Apollo 11 Lunar Module](/nmc/spacecraftDisplay.do?id=1969-059C)  \n",
      " [Apollo 11 Mission](/planetary/lunar/apollo11.html) - images, audio, and a brief history.  \n",
      " [Apollo 11](http://nssdc.gsfc.nasa.gov/planetary/lunar/apollo11info.html)  - with links to other Apollo 11 sites\n",
      "\n",
      "Other Sources of Apollo Information at NSSDCA\n",
      "---------------------------------------------\n",
      "\n",
      "[Apollo Page](/planetary/lunar/apollo.html)  \n",
      " [Lunar Science Page](/planetary/lunar/apollo11.html)\n",
      "\n",
      "Related Information at NSSDCA\n",
      "-----------------------------\n",
      "\n",
      "[Moon Page](/planetary/planets/moonpage.html)\n",
      "\n",
      "NSSDCA Master Catalog Search\n",
      "----------------------------\n",
      "\n",
      "* [Spacecraft](/nmc/SpacecraftQuery.jsp)\n",
      "* [Experiments](/nmc/ExperimentQuery.jsp)\n",
      "* [Data Collections](/nmc/DatasetQuery.jsp)\n",
      "* [Personnel](/nmc/PersonQuery.jsp)\n",
      "* [Publications](/nmc/PublicationQuery.jsp)\n",
      "* [Maps](/nmc/MapQuery.jsp)\n",
      "* [New/Updated Data](/nmc/NewDataQuery.jsp)\n",
      "* [Lunar/Planetary Events](/nmc/EventQuery.jsp)\n",
      "[![Image of the Apollo 11 Command and Service Module (CSM) spacecraft.](https://nssdc.gsfc.nasa.gov/planetary/thumbnail/ap11\\_cm\\_as11\\_37\\_5443.gif)](https://nssdc.gsfc.nasa.gov/planetary/image/ap11\\_cm\\_as11\\_37\\_5443.jpg)  [![\\[USA.gov\\]](/logo/usagov\\_logo.gif)](http://www.usa.gov/) \n",
      "\n",
      "* + [Privacy Policy and Important Notices](http://www.nasa.gov/about/highlights/HP\\_Privacy.html)\n",
      " [![NASA Logo - nasa.gov](/logo/nasa\\_logo\\_small.gif)](http://www.nasa.gov/) \n",
      "\n",
      "* NASA Official: [Dr. David R. Williams](mailto:David.R.Williams@nasa.gov)\n",
      "* Curator: [E. Bell, II](mailto:Ed.Bell@nasa.gov)\n",
      "* Version 5.1.15, 28 October 2022\n",
      " \n"
     ]
    }
   ],
   "source": [
    "print(md_content) "
   ]
  },
  {
   "cell_type": "code",
   "execution_count": null,
   "metadata": {},
   "outputs": [],
   "source": []
  }
 ],
 "metadata": {
  "kernelspec": {
   "display_name": ".venv",
   "language": "python",
   "name": "python3"
  },
  "language_info": {
   "codemirror_mode": {
    "name": "ipython",
    "version": 3
   },
   "file_extension": ".py",
   "mimetype": "text/x-python",
   "name": "python",
   "nbconvert_exporter": "python",
   "pygments_lexer": "ipython3",
   "version": "3.10.12"
  }
 },
 "nbformat": 4,
 "nbformat_minor": 2
}
